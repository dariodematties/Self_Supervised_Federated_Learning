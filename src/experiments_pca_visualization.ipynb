{
 "cells": [
  {
   "cell_type": "code",
   "execution_count": 169,
   "id": "14e83233",
   "metadata": {},
   "outputs": [],
   "source": [
    "import sys\n",
    "import copy\n",
    "\n",
    "import numpy as np\n",
    "import pandas as pd\n",
    "from scipy import stats\n",
    "import matplotlib\n",
    "from matplotlib import pyplot as plt\n",
    "import seaborn as sns\n",
    "from sklearn.decomposition import PCA\n",
    "from tqdm import tqdm\n",
    "import torch\n",
    "\n",
    "from utils.options import args_parser\n",
    "from utils.utils import exp_details, get_train_test, get_model\n",
    "from utils.update import LocalUpdate\n",
    "from utils.sampling import dominant_label_sampling, dirichlet_sampling"
   ]
  },
  {
   "cell_type": "code",
   "execution_count": 170,
   "id": "441720ba",
   "metadata": {},
   "outputs": [
    {
     "name": "stdout",
     "output_type": "stream",
     "text": [
      "\n",
      "Experimental details:\n",
      "\n",
      "Reinforcement Arguments:\n",
      "    Steps Before PPO Update : 256\n",
      "    PPO Learning Rate       : 0.0003\n",
      "    PPO Discount Factor     : 0.9\n",
      "    PPO Batch Size          : 16\n",
      "    PPO Total Timesteps     : 15000\n",
      "    Target Accuracy         : 0.95\n",
      "\n",
      "Federated Arguments:\n",
      "    Number of Users         : 100\n",
      "    Fraction of Users       : 0.1\n",
      "    Local Epochs            : 5\n",
      "    Local Batch Size        : 10\n",
      "    Learning Rate           : 1e-05\n",
      "    Momentum                : 0.5\n",
      "    Optimizer               : adam\n",
      "\n",
      "Model Arguments:\n",
      "    Supervision             : True\n",
      "    Architecture            : cnn\n",
      "\n",
      "Misc. Arguments:\n",
      "    Dataset                 : mnist\n",
      "    Number of GPUs          : 1\n",
      "    IID                     : 0\n",
      "    Random Seed             : 1\n",
      "    Test Fraction           : 1\n",
      "    Save Path               : ../../save\n",
      "    Data Path               : ../../data\n",
      "\n"
     ]
    }
   ],
   "source": [
    "args = args_parser(default=True)\n",
    "\n",
    "args.local_ep = 5\n",
    "args.lr = 0.00001\n",
    "args.supervision = True\n",
    "\n",
    "exp_details(args)"
   ]
  },
  {
   "cell_type": "code",
   "execution_count": 213,
   "id": "cd0a0912",
   "metadata": {},
   "outputs": [],
   "source": [
    "def train_local_models(dataset, arch, sampling_type):\n",
    "    train_dataset, _ = get_train_test(dataset)\n",
    "\n",
    "    base_model = get_model(arch, dataset, \"cuda\")\n",
    "    local_models = [copy.deepcopy(base_model) for _ in range(args.num_users)]\n",
    "\n",
    "    if sampling_type == \"dominant_label\":\n",
    "        dict_users = dominant_label_sampling(train_dataset, num_users=args.num_users, num_samples=50_000, gamma=0.8, print_labels=False)\n",
    "    if sampling_type == \"dirichlet\":\n",
    "        dict_users = dirichlet_sampling(train_dataset, num_users=args.num_users, num_samples=30_000, alpha=0.3, print_labels=False)\n",
    "\n",
    "    print(\"Training client fitting models...\")\n",
    "    user_params = []\n",
    "    user_labels = []\n",
    "    for i, user_samples in tqdm(dict_users.items()):\n",
    "        local_model = local_models[i]\n",
    "        local_update = LocalUpdate(\n",
    "            train_dataset,\n",
    "            user_samples,\n",
    "            args.local_ep,\n",
    "            args.local_bs,\n",
    "            args.lr,\n",
    "            args.optimizer,\n",
    "            args.supervision,\n",
    "            \"cuda\",\n",
    "        )\n",
    "        local_update.update_weights(local_model)\n",
    "        params = torch.cat([p.flatten() for p in local_model.parameters()]).detach().cpu().numpy()\n",
    "        labels = np.array(train_dataset.targets)[list(user_samples)]\n",
    "        user_params.append(params)\n",
    "        user_labels.append(labels)\n",
    "    \n",
    "    return user_params, user_labels\n",
    "\n",
    "\n",
    "def plot_pca(dataset, user_params, user_labels):\n",
    "    if dataset == \"mnist\":\n",
    "        dataset_name = \"MNIST\"\n",
    "        label_names = np.array([str(i) for i in range(10)])\n",
    "    elif dataset == \"cifar\":\n",
    "        dataset_name = \"CIFAR-10\"\n",
    "        label_names = np.array([\"plane\", \"car\", \"bird\", \"cat\", \"deer\", \"dog\", \"frog\", \"horse\", \"ship\", \"truck\"])\n",
    "        \n",
    "    user_params_pca = PCA(n_components=2).fit_transform(user_params)\n",
    "    dominant_label_idxs = [stats.mode(labels).mode[0] for labels in user_labels]\n",
    "    dominant_label_names = label_names[dominant_label_idxs]\n",
    "    dominant_label_ratios = [stats.mode(labels).count[0] / len(labels) for labels in user_labels]\n",
    "    dominant_label_ratios = np.array(dominant_label_ratios) - min(dominant_label_ratios)\n",
    "    \n",
    "    hues = matplotlib.colors.rgb_to_hsv(sns.color_palette(\"tab10\"))[:, 0]\n",
    "    colors = matplotlib.colors.hsv_to_rgb([(hues[idx], ratio, 0.8) for idx, ratio in zip(dominant_label_idxs, dominant_label_ratios)])\n",
    "    \n",
    "    df = pd.DataFrame({\"Principal Component 1\": user_params_pca[:, 0], \"Principal Component 2\": user_params_pca[:, 1]})\n",
    "    \n",
    "    for i, (params_pca, labels) in enumerate(zip(user_params_pca, user_labels)):\n",
    "        mode = stats.mode(labels)\n",
    "        dominant_label, dominant_label_ratio = mode.mode[0], mode.count[0] / len(labels)\n",
    "        \n",
    "    ax = sns.scatterplot(data=df, x=\"Principal Component 1\", y=\"Principal Component 2\", c=colors, s=75, linewidth=0)\n",
    "    ax.set_title(f\"Principal Components of {dataset_name} Client Models\")\n",
    "    handles = []\n",
    "    for label, hue in zip(label_names, hues):\n",
    "        color = matplotlib.colors.hsv_to_rgb((hue, 0.8, 0.8))\n",
    "        patch = matplotlib.patches.Patch(color=color, label=label)\n",
    "        handles.append(patch)\n",
    "\n",
    "    plt.legend(handles=handles, bbox_to_anchor=(1, 1))"
   ]
  },
  {
   "cell_type": "code",
   "execution_count": null,
   "id": "47c603f3",
   "metadata": {},
   "outputs": [
    {
     "name": "stdout",
     "output_type": "stream",
     "text": [
      "Training client fitting models...\n"
     ]
    },
    {
     "name": "stderr",
     "output_type": "stream",
     "text": [
      "100%|██████████| 100/100 [00:24<00:00,  4.17it/s]"
     ]
    }
   ],
   "source": [
    "user_params, user_labels = train_local_models(\"mnist\", \"mlp\", \"dirichlet\")\n",
    "plot_pca(\"mnist\", user_params, user_labels)"
   ]
  },
  {
   "cell_type": "code",
   "execution_count": 129,
   "id": "6bde2936",
   "metadata": {},
   "outputs": [
    {
     "name": "stdout",
     "output_type": "stream",
     "text": [
      "Training client fitting models...\n"
     ]
    },
    {
     "name": "stderr",
     "output_type": "stream",
     "text": [
      "100%|██████████| 100/100 [00:40<00:00,  2.46it/s]\n"
     ]
    },
    {
     "data": {
      "image/png": "[encoded data removed]",
      "text/plain": [
       "<Figure size 432x288 with 1 Axes>"
      ]
     },
     "metadata": {
      "needs_background": "light"
     },
     "output_type": "display_data"
    }
   ],
   "source": [
    "user_params, user_labels = train_local_models(\"cifar\", \"cnn\", \"dirichlet\")\n",
    "plot_pca(\"cifar\", user_params, user_labels)"
   ]
  },
  {
   "cell_type": "code",
   "execution_count": null,
   "id": "907a01c3",
   "metadata": {},
   "outputs": [],
   "source": []
  }
 ],
 "metadata": {
  "kernelspec": {
   "display_name": "conda/2021-09-22",
   "language": "python",
   "name": "conda-2021-09-22"
  },
  "language_info": {
   "codemirror_mode": {
    "name": "ipython",
    "version": 3
   },
   "file_extension": ".py",
   "mimetype": "text/x-python",
   "name": "python",
   "nbconvert_exporter": "python",
   "pygments_lexer": "ipython3",
   "version": "3.8.10"
  }
 },
 "nbformat": 4,
 "nbformat_minor": 5
}
