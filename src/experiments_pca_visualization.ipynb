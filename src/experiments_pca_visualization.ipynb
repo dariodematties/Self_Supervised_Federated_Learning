{
 "cells": [
  {
   "cell_type": "code",
   "execution_count": 5,
   "id": "14e83233",
   "metadata": {},
   "outputs": [],
   "source": [
    "import sys\n",
    "import copy\n",
    "\n",
    "import numpy as np\n",
    "import pandas as pd\n",
    "from scipy import stats\n",
    "import matplotlib\n",
    "from matplotlib import pyplot as plt\n",
    "import seaborn as sns\n",
    "from sklearn.decomposition import PCA\n",
    "from tqdm import tqdm\n",
    "import torch\n",
    "\n",
    "from utils.options import args_parser\n",
    "from utils.utils import exp_details, get_train_test, get_model, get_dataset_and_label_names\n",
    "from utils.update import LocalUpdate\n",
    "from utils.sampling import dominant_label_sampling, dirichlet_sampling"
   ]
  },
  {
   "cell_type": "code",
   "execution_count": 6,
   "id": "441720ba",
   "metadata": {},
   "outputs": [
    {
     "name": "stdout",
     "output_type": "stream",
     "text": [
      "\n",
      "Experimental details:\n",
      "\n",
      "Reinforcement Arguments:\n",
      "    Steps Before PPO Update : 256\n",
      "    PPO Learning Rate       : 0.0003\n",
      "    PPO Discount Factor     : 0.9\n",
      "    PPO Batch Size          : 16\n",
      "    PPO Total Timesteps     : 15000\n",
      "    Target Accuracy         : 0.95\n",
      "\n",
      "Federated Arguments:\n",
      "    Number of Users         : 100\n",
      "    Fraction of Users       : 0.1\n",
      "    Local Epochs            : 5\n",
      "    Local Batch Size        : 10\n",
      "    Learning Rate           : 1e-05\n",
      "    Momentum                : 0.5\n",
      "    Optimizer               : adam\n",
      "\n",
      "Model Arguments:\n",
      "    Supervision             : True\n",
      "    Architecture            : cnn\n",
      "\n",
      "Misc. Arguments:\n",
      "    Dataset                 : mnist\n",
      "    Number of GPUs          : 1\n",
      "    IID                     : 0\n",
      "    Random Seed             : 1\n",
      "    Test Fraction           : 1\n",
      "    Save Path               : ../../save\n",
      "    Data Path               : ../../data\n",
      "\n"
     ]
    }
   ],
   "source": [
    "args = args_parser(default=True)\n",
    "\n",
    "args.local_ep = 5\n",
    "args.lr = 0.00001\n",
    "args.supervision = True\n",
    "\n",
    "exp_details(args)"
   ]
  },
  {
   "cell_type": "code",
   "execution_count": 8,
   "id": "cd0a0912",
   "metadata": {},
   "outputs": [],
   "source": [
    "def train_local_models(dataset, arch, sampling_type, save_layers=None, supervision=True, model=None):\n",
    "    train_dataset, _ = get_train_test(dataset)\n",
    "\n",
    "    base_model = get_model(arch, dataset, \"cuda\")\n",
    "    local_models = [copy.deepcopy(base_model) for _ in range(args.num_users)]\n",
    "\n",
    "    if sampling_type == \"dominant_label\":\n",
    "        dict_users = dominant_label_sampling(train_dataset, num_users=args.num_users, num_samples=50_000, gamma=0.8, print_labels=False)\n",
    "    if sampling_type == \"dirichlet\":\n",
    "        dict_users = dirichlet_sampling(train_dataset, num_users=args.num_users, num_samples=30_000, alpha=0.2, print_labels=False)\n",
    "\n",
    "    print(\"Training client fitting models...\")\n",
    "    user_params = []\n",
    "    user_labels = []\n",
    "    for i, user_samples in tqdm(dict_users.items()):\n",
    "        local_model = local_models[i]\n",
    "        local_update = LocalUpdate(\n",
    "            train_dataset,\n",
    "            user_samples,\n",
    "            args.local_ep,\n",
    "            args.local_bs,\n",
    "            args.lr,\n",
    "            args.optimizer,\n",
    "            supervision,\n",
    "            \"cuda\",\n",
    "        )\n",
    "        local_update.update_weights(local_model)\n",
    "        \n",
    "        if save_layers is None:\n",
    "            params = torch.cat([p.flatten() for p in local_model.parameters()]).detach().cpu().numpy()\n",
    "        else:\n",
    "            params = []\n",
    "            for layer in save_layers:\n",
    "                layer_params = local_model.__dict__[\"_modules\"][layer].parameters()\n",
    "                layer_params_flat = torch.cat([p.flatten() for p in layer_params]).detach().cpu().numpy()\n",
    "                params.append(layer_params_flat)\n",
    "        \n",
    "        labels = np.array(train_dataset.targets)[list(user_samples)]\n",
    "        user_params.append(params)\n",
    "        user_labels.append(labels)\n",
    "\n",
    "    return user_params, user_labels\n",
    "\n",
    "\n",
    "def plot_pca(dataset, sampling_type, user_params, user_labels, layer=None):\n",
    "    dataset_name, label_names = get_dataset_and_label_names(dataset)\n",
    "        \n",
    "    if sampling_type == \"dirichlet\":\n",
    "        sampling_type_name = \"Dirichlet\"\n",
    "    elif sampling_type == \"dominant_label\":\n",
    "        sampling_type_name = \"80%-20%\"\n",
    "        \n",
    "    user_params_pca = PCA(n_components=2).fit_transform(user_params)\n",
    "    dominant_label_idxs = [stats.mode(labels).mode[0] for labels in user_labels]\n",
    "    dominant_label_names = label_names[dominant_label_idxs]\n",
    "    dominant_label_ratios = np.array([stats.mode(labels).count[0] / len(labels) for labels in user_labels])\n",
    "    \n",
    "    # rescale dominant label ratios\n",
    "    if sampling_type == \"dirichlet\":\n",
    "        min_ratio = min(dominant_label_ratios)\n",
    "        max_ratio = max(dominant_label_ratios)\n",
    "        dominant_label_ratios = (dominant_label_ratios - min_ratio) / max_ratio\n",
    "        dominant_label_ratios *= 150\n",
    "    else:\n",
    "        dominant_label_ratios *= 80\n",
    "    \n",
    "    colors = np.array(sns.color_palette(\"tab10\"))\n",
    "    \n",
    "    df = pd.DataFrame({\"Principal Component 1\": user_params_pca[:, 0], \"Principal Component 2\": user_params_pca[:, 1]})\n",
    "    \n",
    "    for i, (params_pca, labels) in enumerate(zip(user_params_pca, user_labels)):\n",
    "        mode = stats.mode(labels)\n",
    "        dominant_label, dominant_label_ratio = mode.mode[0], mode.count[0] / len(labels)\n",
    "        \n",
    "    ax = sns.scatterplot(data=df, x=\"Principal Component 1\", y=\"Principal Component 2\", c=colors[dominant_label_idxs], s=dominant_label_ratios, linewidth=0)\n",
    "    ax.set_title(f\"{dataset_name} Client Models, {sampling_type_name} Sampling{'' if layer is None else ', ' + layer}{'' if model is None else ', ' + model}\")\n",
    "    handles = []\n",
    "    for label, color in zip(label_names, colors):\n",
    "        patch = matplotlib.patches.Patch(color=color, label=label)\n",
    "        handles.append(patch)\n",
    "\n",
    "    plt.legend(handles=handles, bbox_to_anchor=(1, 1))"
   ]
  },
  {
   "cell_type": "code",
   "execution_count": null,
   "id": "47c603f3",
   "metadata": {},
   "outputs": [],
   "source": [
    "user_params, user_labels = train_local_models(\"mnist\", \"mlp\", \"dirichlet\")\n",
    "plot_pca(\"mnist\", \"dirichlet\", user_params, user_labels)"
   ]
  },
  {
   "cell_type": "code",
   "execution_count": null,
   "id": "a85f01fe",
   "metadata": {},
   "outputs": [],
   "source": [
    "user_params, user_labels = train_local_models(\"cifar\", \"cnn\", \"dirichlet\")\n",
    "plot_pca(\"cifar\", \"dirichlet\", user_params, user_labels)"
   ]
  },
  {
   "cell_type": "code",
   "execution_count": null,
   "id": "94bd1151",
   "metadata": {},
   "outputs": [],
   "source": [
    "user_params, user_labels = train_local_models(\"mnist\", \"mlp\", \"dominant_label\")\n",
    "plot_pca(\"mnist\", \"dominant_label\", user_params, user_labels)"
   ]
  },
  {
   "cell_type": "code",
   "execution_count": null,
   "id": "8b0cf6d3",
   "metadata": {},
   "outputs": [],
   "source": [
    "user_params, user_labels = train_local_models(\"cifar\", \"cnn\", \"dominant_label\")\n",
    "plot_pca(\"cifar\", \"dominant_label\", user_params, user_labels)"
   ]
  },
  {
   "cell_type": "code",
   "execution_count": null,
   "id": "87a00ec9",
   "metadata": {},
   "outputs": [],
   "source": [
    "user_params, user_labels = train_local_models(\"cifar\", \"cnn\", \"dominant_label\", save_layers=[\"conv1\", \"conv2\", \"conv3\", \"fc1\", \"fc2\"])"
   ]
  },
  {
   "cell_type": "code",
   "execution_count": null,
   "id": "d6b5dcda",
   "metadata": {},
   "outputs": [],
   "source": [
    "conv1_params = [param[0] for param in user_params]\n",
    "plot_pca(\"cifar\", \"dominant_label\", conv1_params, user_labels, \"conv1\")"
   ]
  },
  {
   "cell_type": "code",
   "execution_count": null,
   "id": "78b0fae4",
   "metadata": {},
   "outputs": [],
   "source": [
    "conv2_params = [param[1] for param in user_params]\n",
    "plot_pca(\"cifar\", \"dominant_label\", conv2_params, user_labels, \"conv2\")"
   ]
  },
  {
   "cell_type": "code",
   "execution_count": null,
   "id": "c9e8ce13",
   "metadata": {},
   "outputs": [],
   "source": [
    "conv3_params = [param[2] for param in user_params]\n",
    "plot_pca(\"cifar\", \"dominant_label\", conv3_params, user_labels, \"conv3\")"
   ]
  },
  {
   "cell_type": "code",
   "execution_count": null,
   "id": "2c72b376",
   "metadata": {},
   "outputs": [],
   "source": [
    "fc1_params = [param[3] for param in user_params]\n",
    "plot_pca(\"cifar\", \"dominant_label\", fc1_params, user_labels, \"fc1\")"
   ]
  },
  {
   "cell_type": "code",
   "execution_count": null,
   "id": "4c8ac1a6",
   "metadata": {},
   "outputs": [],
   "source": [
    "fc2_params = [param[4] for param in user_params]\n",
    "plot_pca(\"cifar\", \"dominant_label\", fc2_params, user_labels, \"fc2\")"
   ]
  },
  {
   "cell_type": "code",
   "execution_count": 11,
   "id": "2a68a024",
   "metadata": {},
   "outputs": [
    {
     "name": "stdout",
     "output_type": "stream",
     "text": [
      "Training client fitting models...\n"
     ]
    },
    {
     "name": "stderr",
     "output_type": "stream",
     "text": [
      "100%|██████████| 100/100 [01:02<00:00,  1.59it/s]\n"
     ]
    },
    {
     "data": {
      "image/png": "[encoded data removed]",
      "text/plain": [
       "<Figure size 432x288 with 1 Axes>"
      ]
     },
     "metadata": {
      "needs_background": "light"
     },
     "output_type": "display_data"
    }
   ],
   "source": [
    "user_params, user_labels = train_local_models(\"mnist\", \"autoencoder\", \"dominant_label\", supervision=False)\n",
    "plot_pca(\"mnist\", \"dominant_label\", user_params, user_labels, \"Autoencoder\")"
   ]
  },
  {
   "cell_type": "code",
   "execution_count": null,
   "id": "49948316",
   "metadata": {},
   "outputs": [],
   "source": []
  }
 ],
 "metadata": {
  "kernelspec": {
   "display_name": "conda/2021-09-22",
   "language": "python",
   "name": "conda-2021-09-22"
  },
  "language_info": {
   "codemirror_mode": {
    "name": "ipython",
    "version": 3
   },
   "file_extension": ".py",
   "mimetype": "text/x-python",
   "name": "python",
   "nbconvert_exporter": "python",
   "pygments_lexer": "ipython3",
   "version": "3.8.10"
  }
 },
 "nbformat": 4,
 "nbformat_minor": 5
}
