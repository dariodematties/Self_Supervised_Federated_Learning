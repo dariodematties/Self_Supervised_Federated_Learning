{
 "cells": [
  {
   "cell_type": "code",
   "execution_count": 12,
   "id": "708fa720",
   "metadata": {},
   "outputs": [],
   "source": [
    "import sys\n",
    "\n",
    "sys.path.append(\"/lus/swift/home/srajani/.local/conda/2021-09-22/lib/python3.8/site-packages\")\n",
    "sys.argv = ['']"
   ]
  },
  {
   "cell_type": "code",
   "execution_count": 13,
   "id": "14e83233",
   "metadata": {},
   "outputs": [],
   "source": [
    "import copy\n",
    "import math\n",
    "import os\n",
    "\n",
    "import torch\n",
    "from torchvision import datasets, transforms\n",
    "\n",
    "import numpy as np\n",
    "from scipy import stats\n",
    "import pandas as pd\n",
    "import matplotlib\n",
    "from matplotlib import pyplot as plt\n",
    "import seaborn as sns\n",
    "from sklearn.decomposition import PCA\n",
    "from sklearn.neighbors import KNeighborsClassifier\n",
    "from tqdm import tqdm\n",
    "\n",
    "from options import args_parser\n",
    "from utils import exp_details, get_train_test, average_weights, get_model\n",
    "from update import LocalUpdate, test_inference\n",
    "from sampling import dominant_label_sampling, dirichlet_sampling"
   ]
  },
  {
   "cell_type": "code",
   "execution_count": 14,
   "id": "441720ba",
   "metadata": {},
   "outputs": [
    {
     "name": "stdout",
     "output_type": "stream",
     "text": [
      "\n",
      "Experimental details:\n",
      "\n",
      "Reinforcement Arguments:\n",
      "    Steps Before PPO Update : 256\n",
      "    PPO Learning Rate       : 0.0003\n",
      "    PPO Discount Factor     : 0.9\n",
      "    PPO Batch Size          : 16\n",
      "    PPO Total Timesteps     : 15000\n",
      "    Target Accuracy         : 0.95\n",
      "\n",
      "Federated Arguments:\n",
      "    Number of Users         : 100\n",
      "    Fraction of Users       : 0.1\n",
      "    Local Epochs            : 1\n",
      "    Local Batch Size        : 10\n",
      "    Learning Rate           : 1e-05\n",
      "    Momentum                : 0.5\n",
      "    Optimizer               : adam\n",
      "\n",
      "Model Arguments:\n",
      "    Supervision             : True\n",
      "    Model                   : cnn\n",
      "\n",
      "Misc. Arguments:\n",
      "    Dataset                 : cifar\n",
      "    Number of GPUs          : 1\n",
      "    IID                     : 0\n",
      "    Unequal                 : 0\n",
      "    Random Seed             : 1\n",
      "    Test Fraction           : 1\n",
      "\n"
     ]
    }
   ],
   "source": [
    "# Parse, validate, and print arguments\n",
    "\n",
    "args = args_parser()\n",
    "\n",
    "args.local_ep = 5\n",
    "args.lr = 0.00001\n",
    "args.supervision = True\n",
    "\n",
    "exp_details(args)"
   ]
  },
  {
   "cell_type": "markdown",
   "id": "089487e6",
   "metadata": {},
   "source": [
    "## The Idea\n",
    "\n",
    "We train 100 clients for 5 local epochs and use PCA-reduction to visualize their model parameters. We color each point according to its most prominent label."
   ]
  },
  {
   "cell_type": "code",
   "execution_count": 5,
   "id": "944aa85f",
   "metadata": {},
   "outputs": [],
   "source": [
    "sampling_type = \"dominant_label\""
   ]
  },
  {
   "cell_type": "code",
   "execution_count": 6,
   "id": "cd0a0912",
   "metadata": {},
   "outputs": [
    {
     "name": "stderr",
     "output_type": "stream",
     "text": [
      "/lus/theta-fs0/software/thetagpu/conda/2021-09-22/mconda3/lib/python3.8/site-packages/torchvision/datasets/mnist.py:498: UserWarning: The given NumPy array is not writeable, and PyTorch does not support non-writeable tensors. This means you can write to the underlying (supposedly non-writeable) NumPy array using the tensor. You may want to copy the array to protect its data or make it writeable before converting it to a tensor. This type of warning will be suppressed for the rest of this program. (Triggered internally at  ../torch/csrc/utils/tensor_numpy.cpp:174.)\n",
      "  return torch.from_numpy(parsed.astype(m[2], copy=False)).view(*s)\n"
     ]
    },
    {
     "name": "stdout",
     "output_type": "stream",
     "text": [
      "Training client fitting models...\n"
     ]
    },
    {
     "name": "stderr",
     "output_type": "stream",
     "text": [
      "100%|██████████| 1/1 [00:36<00:00, 36.19s/it]\n"
     ]
    }
   ],
   "source": [
    "def plot_pca(dataset, model):\n",
    "    dataset_dir = os.path.join(args.data_path, dataset)\n",
    "    train_dataset, test_dataset = get_train_test(dataset)\n",
    "\n",
    "    base_model = get_model(model, dataset, args.supervision, \"cuda\")\n",
    "    local_models = [copy.deepcopy(base_model) for _ in range(args.num_users)]\n",
    "\n",
    "    if sampling_type == \"dominant_label\":\n",
    "        dict_users = dominant_label_sampling(train_dataset, num_users=args.num_users, num_samples=50_000, gamma=0.8, print_labels=False)\n",
    "    if sampling_type == \"dirichlet\":\n",
    "        dict_users = dirichlet_sampling(train_dataset, num_users=args.num_users, num_samples=40_000, alpha=0.1, print_labels=False)\n",
    "\n",
    "    print(\"Training client fitting models...\")\n",
    "    user_params = []\n",
    "    for i, user_samples in tqdm(dict_users.items()):\n",
    "        local_model = local_models[i]\n",
    "        local_update = LocalUpdate(\n",
    "            train_dataset,\n",
    "            user_samples,\n",
    "            args.local_ep,\n",
    "            args.local_bs,\n",
    "            args.lr,\n",
    "            args.optimizer,\n",
    "            args.supervision,\n",
    "            \"cuda\",\n",
    "        )\n",
    "        w, loss = local_update.update_weights(local_model)\n",
    "        params = torch.cat([p.flatten() for p in local_model.parameters()]).detach().cpu().numpy()\n",
    "        user_params.append(params)\n",
    "    \n",
    "    if dataset == \"cifar\":\n",
    "        dataset_name = \"CIFAR-10\"\n",
    "    elif dataset == \"mnist\":\n",
    "        dataset_name = \"MNIST\"\n",
    "\n",
    "    # PCA for fitting model parameters\n",
    "    n_components = 2\n",
    "    pca_params_fit = PCA(n_components=n_components).fit_transform(user_params)\n",
    "\n",
    "    # labels = [\"plane\", \"car\", \"bird\", \"cat\", \"deer\", \"dog\", \"frog\", \"horse\", \"ship\", \"truck\"]\n",
    "\n",
    "    labels = range(10)\n",
    "\n",
    "    plt.rcParams.update({'font.size': 20})\n",
    "    fig = plt.figure(figsize=(8, 8))\n",
    "    if n_components == 3:\n",
    "        ax = fig.add_subplot(projection='3d')\n",
    "    else:\n",
    "        ax = fig.add_subplot()\n",
    "\n",
    "    #     for i, params in enumerate(pca_params_fit):\n",
    "    #         ax.scatter(params[0], params[1], c=dominant_label, vmin=0, vmax=9, label=labels[i] if i < 10 else \"\", cmap=\"tab10\")\n",
    "    for i, (user_samples, params) in enumerate(zip(dict_users.values(), pca_params_fit)):\n",
    "        mode = stats.mode(np.array(train_dataset.targets)[list(user_samples)])\n",
    "        dominant_label, dominant_label_ratio = mode.mode[0], mode.count[0] / len(user_samples)\n",
    "    #     ax.scatter(*params, c=dominant_label, vmin=0, vmax=9, alpha=dominant_label_ratio, cmap=\"tab10\", s=60)\n",
    "        ax.scatter(*params, c=dominant_label, vmin=0, vmax=9, label=labels[i] if i < 10 else \"\", cmap=\"tab10\", s=60)\n",
    "    ax.set_title(f\"Principal Components of {dataset_name} Client Models\", fontsize=18)\n",
    "    ax.set_xlabel(\"Principal Component 1\")\n",
    "    ax.set_ylabel(\"Principal Component 2\")\n",
    "    ax.set_xticks([])\n",
    "    ax.set_yticks([])\n",
    "    ax.legend()\n",
    "    plt.show()"
   ]
  },
  {
   "cell_type": "code",
   "execution_count": 7,
   "id": "47c603f3",
   "metadata": {},
   "outputs": [
    {
     "name": "stderr",
     "output_type": "stream",
     "text": [
      "No handles with labels found to put in legend.\n"
     ]
    },
    {
     "data": {
      "image/png": "[encoded data removed]",
      "text/plain": [
       "<Figure size 432x288 with 1 Axes>"
      ]
     },
     "metadata": {
      "needs_background": "light"
     },
     "output_type": "display_data"
    }
   ],
   "source": [
    "for dataset, model in [(\"mnist\", \"mlp\"), (\"cifar\", \"cnn\")]:\n",
    "    plot_pca(dataset, model)"
   ]
  },
  {
   "cell_type": "code",
   "execution_count": null,
   "id": "6a3871fb",
   "metadata": {},
   "outputs": [],
   "source": []
  }
 ],
 "metadata": {
  "kernelspec": {
   "display_name": "conda/2021-09-22",
   "language": "python",
   "name": "conda-2021-09-22"
  },
  "language_info": {
   "codemirror_mode": {
    "name": "ipython",
    "version": 3
   },
   "file_extension": ".py",
   "mimetype": "text/x-python",
   "name": "python",
   "nbconvert_exporter": "python",
   "pygments_lexer": "ipython3",
   "version": "3.8.10"
  }
 },
 "nbformat": 4,
 "nbformat_minor": 5
}
