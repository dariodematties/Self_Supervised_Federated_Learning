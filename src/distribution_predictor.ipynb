{
 "cells": [
  {
   "cell_type": "code",
   "execution_count": 218,
   "id": "723bebee",
   "metadata": {},
   "outputs": [],
   "source": [
    "import sys\n",
    "import os\n",
    "\n",
    "import torch\n",
    "from torch import nn\n",
    "from torch.utils.data import DataLoader\n",
    "import numpy as np\n",
    "from matplotlib import pyplot as plt\n",
    "from tqdm import tqdm\n",
    "\n",
    "from utils.options import args_parser\n",
    "from utils.utils import exp_details, get_model\n",
    "from utils.label_distribution_dataset import LabelDistributionDataset\n",
    "from utils.accs import train_models"
   ]
  },
  {
   "cell_type": "code",
   "execution_count": 219,
   "id": "3d31d4f2",
   "metadata": {},
   "outputs": [
    {
     "name": "stdout",
     "output_type": "stream",
     "text": [
      "\n",
      "Experimental details:\n",
      "\n",
      "Reinforcement Arguments:\n",
      "    Steps Before PPO Update : 256\n",
      "    PPO Learning Rate       : 0.0003\n",
      "    PPO Discount Factor     : 0.9\n",
      "    PPO Batch Size          : 16\n",
      "    PPO Total Timesteps     : 15000\n",
      "    Target Accuracy         : 0.95\n",
      "\n",
      "Federated Arguments:\n",
      "    Number of Users         : 100\n",
      "    Fraction of Users       : 0.1\n",
      "    Local Epochs            : 1\n",
      "    Local Batch Size        : 32\n",
      "    Learning Rate           : 0.001\n",
      "    Momentum                : 0.5\n",
      "    Optimizer               : adam\n",
      "\n",
      "Model Arguments:\n",
      "    Supervision             : True\n",
      "    Architecture            : cnn\n",
      "\n",
      "Misc. Arguments:\n",
      "    Dataset                 : cifar\n",
      "    Number of GPUs          : 1\n",
      "    IID                     : 0\n",
      "    Random Seed             : 1\n",
      "    Test Fraction           : 1\n",
      "    Save Path               : ../../save\n",
      "    Data Path               : ../../data\n",
      "\n"
     ]
    }
   ],
   "source": [
    "args = args_parser(default=True)\n",
    "\n",
    "args.local_ep = 1\n",
    "args.local_bs = 32\n",
    "args.supervision = True\n",
    "\n",
    "args.lr = 1e-3\n",
    "args.dataset = \"cifar\"\n",
    "args.arch = \"cnn\"\n",
    "\n",
    "# args.lr = 1e-4\n",
    "# args.dataset = \"mnist\"\n",
    "# args.arch = \"mlp\"\n",
    "\n",
    "exp_details(args)"
   ]
  },
  {
   "cell_type": "code",
   "execution_count": 220,
   "id": "db74fa18",
   "metadata": {},
   "outputs": [],
   "source": [
    "base_model = get_model(args.arch, args.dataset, \"cpu\")\n",
    "base_model_path = os.path.join(args.data_path, f\"base_model_{args.dataset}_{args.arch}.pth\")\n",
    "torch.save(base_model, base_model_path)"
   ]
  },
  {
   "cell_type": "code",
   "execution_count": 221,
   "id": "d0aa19b3",
   "metadata": {},
   "outputs": [
    {
     "name": "stdout",
     "output_type": "stream",
     "text": [
      "Loading from saved dataset...\n",
      "Loading dataset...\n",
      "Loading from saved dataset...\n",
      "Loading dataset...\n"
     ]
    }
   ],
   "source": [
    "noise_type = \"laplacian\"\n",
    "noise_scale = 1e-3\n",
    "\n",
    "train_dataset = LabelDistributionDataset(args.dataset, args.local_ep, args.local_bs, args.lr, args.optimizer, args.supervision, True, args.data_path, base_model_path, \"cuda\", noise_type, noise_scale)\n",
    "test_dataset = LabelDistributionDataset(args.dataset, args.local_ep, args.local_bs, args.lr, args.optimizer, args.supervision, False, args.data_path, base_model_path, \"cuda\", noise_type, noise_scale)"
   ]
  },
  {
   "cell_type": "code",
   "execution_count": 222,
   "id": "3ba4ee67",
   "metadata": {},
   "outputs": [
    {
     "name": "stdout",
     "output_type": "stream",
     "text": [
      "Number of samples in train set: 10000\n",
      "Number of samples in test set: 2000\n",
      "Shape of X: torch.Size([32, 10])\n",
      "Shape of y: torch.Size([32, 10])\n"
     ]
    }
   ],
   "source": [
    "print(f\"Number of samples in train set: {len(train_dataset)}\")\n",
    "print(f\"Number of samples in test set: {len(test_dataset)}\")\n",
    "\n",
    "train_dataloader = DataLoader(train_dataset, batch_size=32, shuffle=True)\n",
    "test_dataloader = DataLoader(test_dataset, batch_size=32, shuffle=True)\n",
    "for X, y in train_dataloader:\n",
    "    print(f\"Shape of X: {X.shape}\")\n",
    "    print(f\"Shape of y: {y.shape}\")\n",
    "    break"
   ]
  },
  {
   "cell_type": "code",
   "execution_count": 223,
   "id": "d33a8dfd",
   "metadata": {},
   "outputs": [],
   "source": [
    "class DistributionPredictor(nn.Module):\n",
    "    def __init__(self):\n",
    "        super().__init__()\n",
    "        self.input_layer = nn.Linear(10, 1000)\n",
    "        self.hidden_layers = nn.ModuleList()\n",
    "        for i in range(8):\n",
    "            self.hidden_layers.append(nn.Sequential(\n",
    "                nn.Linear(1000, 1000),\n",
    "                nn.ReLU(),\n",
    "            ))\n",
    "        self.output_layer = nn.Linear(1000, 10)\n",
    "        self.relu = nn.ReLU()\n",
    "        self.softmax = nn.Softmax(dim=1)\n",
    "\n",
    "    def forward(self, x):\n",
    "        x = self.input_layer(x)\n",
    "        x = self.relu(x)\n",
    "        for layer in self.hidden_layers:\n",
    "            x = layer(x)\n",
    "        x = self.output_layer(x)\n",
    "        x = self.softmax(x)\n",
    "        return x"
   ]
  },
  {
   "cell_type": "code",
   "execution_count": 224,
   "id": "a6bbcf31",
   "metadata": {},
   "outputs": [],
   "source": [
    "def train(dataloader, model, loss_fn, optimizer, device):\n",
    "    num_batches = len(dataloader)\n",
    "    model.train()\n",
    "    train_loss = 0\n",
    "    for batch, (X, y) in enumerate(dataloader):\n",
    "        X, y = X.to(device), y.to(device)\n",
    "\n",
    "        # Compute prediction error\n",
    "        pred = model(X)\n",
    "        loss = loss_fn(pred, y)\n",
    "\n",
    "        # Backpropagation\n",
    "        optimizer.zero_grad()\n",
    "        loss.backward()\n",
    "        optimizer.step()\n",
    "        \n",
    "        train_loss += loss\n",
    "    train_loss /= num_batches\n",
    "    return train_loss.item()\n",
    "\n",
    "\n",
    "def test(dataloader, model, loss_fn, device):\n",
    "    num_batches = len(dataloader)\n",
    "    model.eval()\n",
    "    test_loss = 0\n",
    "    with torch.no_grad():\n",
    "        for X, y in dataloader:\n",
    "            X, y = X.to(device), y.to(device)\n",
    "            pred = model(X)\n",
    "            test_loss += loss_fn(pred, y).item()\n",
    "    test_loss /= num_batches\n",
    "    return test_loss"
   ]
  },
  {
   "cell_type": "code",
   "execution_count": 225,
   "id": "0555c1ad",
   "metadata": {
    "scrolled": true
   },
   "outputs": [
    {
     "name": "stdout",
     "output_type": "stream",
     "text": [
      "DistributionPredictor(\n",
      "  (input_layer): Linear(in_features=10, out_features=1000, bias=True)\n",
      "  (hidden_layers): ModuleList(\n",
      "    (0): Sequential(\n",
      "      (0): Linear(in_features=1000, out_features=1000, bias=True)\n",
      "      (1): ReLU()\n",
      "    )\n",
      "    (1): Sequential(\n",
      "      (0): Linear(in_features=1000, out_features=1000, bias=True)\n",
      "      (1): ReLU()\n",
      "    )\n",
      "    (2): Sequential(\n",
      "      (0): Linear(in_features=1000, out_features=1000, bias=True)\n",
      "      (1): ReLU()\n",
      "    )\n",
      "    (3): Sequential(\n",
      "      (0): Linear(in_features=1000, out_features=1000, bias=True)\n",
      "      (1): ReLU()\n",
      "    )\n",
      "    (4): Sequential(\n",
      "      (0): Linear(in_features=1000, out_features=1000, bias=True)\n",
      "      (1): ReLU()\n",
      "    )\n",
      "    (5): Sequential(\n",
      "      (0): Linear(in_features=1000, out_features=1000, bias=True)\n",
      "      (1): ReLU()\n",
      "    )\n",
      "    (6): Sequential(\n",
      "      (0): Linear(in_features=1000, out_features=1000, bias=True)\n",
      "      (1): ReLU()\n",
      "    )\n",
      "    (7): Sequential(\n",
      "      (0): Linear(in_features=1000, out_features=1000, bias=True)\n",
      "      (1): ReLU()\n",
      "    )\n",
      "  )\n",
      "  (output_layer): Linear(in_features=1000, out_features=10, bias=True)\n",
      "  (relu): ReLU()\n",
      "  (softmax): Softmax(dim=1)\n",
      ")\n"
     ]
    },
    {
     "name": "stderr",
     "output_type": "stream",
     "text": [
      "100%|██████████| 500/500 [10:03<00:00,  1.21s/it]"
     ]
    },
    {
     "name": "stdout",
     "output_type": "stream",
     "text": [
      "Done!\n",
      "Final test loss: 0.00078\n",
      "Final train loss: 0.00005\n"
     ]
    },
    {
     "name": "stderr",
     "output_type": "stream",
     "text": [
      "\n"
     ]
    }
   ],
   "source": [
    "device = \"cuda\"\n",
    "\n",
    "model_save_path = os.path.join(args.save_path, \"distribution_prediction\", f\"distribution_predictor_model_{args.dataset}_{args.arch}_{noise_type}_{noise_scale}.pth\")\n",
    "\n",
    "model = DistributionPredictor()\n",
    "model.to(device)\n",
    "print(model)\n",
    "\n",
    "loss_fn = nn.MSELoss()\n",
    "optimizer = torch.optim.Adam(model.parameters(), lr=3e-5)\n",
    "\n",
    "train_losses = []\n",
    "test_losses = []\n",
    "\n",
    "epochs = 500\n",
    "for t in tqdm(range(epochs)):\n",
    "    test_loss = test(test_dataloader, model, loss_fn, device)\n",
    "    test_losses.append(test_loss)\n",
    "    train_loss = train(train_dataloader, model, loss_fn, optimizer, device)\n",
    "    train_losses.append(train_loss)\n",
    "\n",
    "print(\"Done!\")\n",
    "print(f\"Final test loss: {test_losses[-1]:.5f}\")\n",
    "print(f\"Final train loss: {train_losses[-1]:.5f}\")\n",
    "\n",
    "torch.save(model, model_save_path)"
   ]
  },
  {
   "cell_type": "code",
   "execution_count": 226,
   "id": "5df534fc",
   "metadata": {},
   "outputs": [],
   "source": [
    "np.save(os.path.join(args.save_path, \"distribution_prediction\", f\"train_losses_{args.dataset}_{args.arch}_{noise_type}_{noise_scale}.npy\"), train_losses)\n",
    "np.save(os.path.join(args.save_path, \"distribution_prediction\", f\"test_losses_{args.dataset}_{args.arch}_{noise_type}_{noise_scale}.npy\"), test_losses)"
   ]
  },
  {
   "cell_type": "code",
   "execution_count": 227,
   "id": "36101c4c",
   "metadata": {},
   "outputs": [],
   "source": [
    "train_losses = np.load(os.path.join(args.save_path, \"distribution_prediction\", f\"train_losses_{args.dataset}_{args.arch}_{noise_type}_{noise_scale}.npy\"))\n",
    "test_losses = np.load(os.path.join(args.save_path, \"distribution_prediction\", f\"test_losses_{args.dataset}_{args.arch}_{noise_type}_{noise_scale}.npy\"))"
   ]
  },
  {
   "cell_type": "code",
   "execution_count": 228,
   "id": "f2cd4d8b",
   "metadata": {},
   "outputs": [
    {
     "data": {
      "image/png": "[encoded data removed]",
      "text/plain": [
       "<Figure size 432x288 with 1 Axes>"
      ]
     },
     "metadata": {
      "needs_background": "light"
     },
     "output_type": "display_data"
    }
   ],
   "source": [
    "plt.plot(train_losses, label=\"Train Loss\")\n",
    "plt.plot(test_losses, label=\"Test Loss\")\n",
    "\n",
    "plt.xlabel(\"Training Epoch\")\n",
    "plt.ylabel(\"Loss\")\n",
    "plt.title(\"Loss vs. Training Epoch\")\n",
    "plt.legend()\n",
    "plt.show()"
   ]
  },
  {
   "cell_type": "code",
   "execution_count": 229,
   "id": "8b8ccc34",
   "metadata": {},
   "outputs": [
    {
     "name": "stdout",
     "output_type": "stream",
     "text": [
      "[0.00 0.00 0.00 0.00 0.00 0.00 0.00 0.00 1.00 0.00] [0.00 0.00 0.00 0.00 0.00 0.00 0.00 0.00 1.00 0.00]\n",
      "[0.18 0.79 0.01 0.00 0.00 0.01 0.01 0.00 0.00 0.00] [0.16 0.83 0.00 0.00 0.00 0.00 0.02 0.00 0.00 0.00]\n",
      "[0.12 0.10 0.06 0.06 0.11 0.12 0.14 0.12 0.09 0.09] [0.10 0.09 0.08 0.09 0.10 0.11 0.11 0.11 0.10 0.10]\n",
      "[0.02 0.01 0.23 0.01 0.01 0.28 0.01 0.36 0.08 0.01] [0.04 0.10 0.15 0.00 0.01 0.24 0.01 0.27 0.17 0.01]\n",
      "[0.08 0.02 0.17 0.20 0.16 0.04 0.03 0.17 0.02 0.10] [0.03 0.06 0.15 0.18 0.15 0.14 0.02 0.19 0.01 0.07]\n",
      "[0.12 0.12 0.12 0.08 0.08 0.09 0.08 0.11 0.10 0.11] [0.13 0.13 0.11 0.07 0.10 0.10 0.08 0.10 0.10 0.08]\n",
      "[0.09 0.09 0.11 0.10 0.10 0.10 0.10 0.09 0.11 0.11] [0.09 0.11 0.10 0.08 0.09 0.11 0.09 0.10 0.12 0.11]\n",
      "[0.11 0.10 0.10 0.09 0.11 0.10 0.09 0.10 0.10 0.12] [0.12 0.10 0.11 0.12 0.07 0.03 0.12 0.09 0.11 0.14]\n",
      "[0.09 0.10 0.11 0.10 0.09 0.12 0.10 0.09 0.10 0.10] [0.11 0.08 0.11 0.11 0.10 0.11 0.12 0.09 0.09 0.09]\n",
      "[0.06 0.10 0.06 0.17 0.11 0.05 0.11 0.16 0.10 0.07] [0.08 0.10 0.06 0.18 0.14 0.05 0.08 0.13 0.10 0.08]\n",
      "[0.01 0.00 0.01 0.36 0.02 0.59 0.00 0.00 0.01 0.00] [0.01 0.00 0.00 0.38 0.00 0.61 0.01 0.00 0.00 0.00]\n",
      "[0.94 0.00 0.00 0.01 0.00 0.00 0.00 0.00 0.00 0.04] [0.92 0.00 0.00 0.00 0.00 0.00 0.00 0.00 0.00 0.08]\n",
      "[0.12 0.13 0.10 0.08 0.12 0.08 0.10 0.06 0.10 0.11] [0.09 0.13 0.11 0.11 0.12 0.09 0.12 0.08 0.07 0.09]\n",
      "[0.00 0.00 0.00 0.00 0.00 0.00 0.00 0.00 1.00 0.00] [0.00 0.00 0.00 0.00 0.00 0.00 0.00 0.00 0.99 0.00]\n",
      "[0.04 0.00 0.19 0.01 0.00 0.10 0.48 0.03 0.01 0.14] [0.05 0.01 0.16 0.01 0.00 0.00 0.61 0.00 0.00 0.17]\n",
      "[0.00 0.01 0.00 0.04 0.00 0.16 0.00 0.00 0.20 0.58] [0.00 0.00 0.00 0.14 0.00 0.14 0.00 0.00 0.15 0.56]\n",
      "[0.01 0.16 0.12 0.01 0.09 0.01 0.10 0.34 0.05 0.11] [0.03 0.11 0.16 0.01 0.11 0.04 0.02 0.34 0.05 0.14]\n",
      "[0.00 0.00 0.02 0.02 0.31 0.00 0.00 0.64 0.02 0.00] [0.00 0.00 0.00 0.00 0.22 0.00 0.04 0.73 0.00 0.00]\n",
      "[0.12 0.11 0.10 0.13 0.09 0.09 0.11 0.11 0.06 0.09] [0.09 0.10 0.12 0.11 0.09 0.11 0.10 0.11 0.08 0.10]\n",
      "[0.06 0.00 0.00 0.12 0.00 0.00 0.00 0.81 0.00 0.00] [0.00 0.00 0.00 0.09 0.00 0.00 0.00 0.91 0.00 0.00]\n",
      "[0.00 0.99 0.00 0.00 0.00 0.00 0.00 0.00 0.01 0.00] [0.00 0.94 0.00 0.01 0.00 0.00 0.00 0.01 0.03 0.00]\n",
      "[0.98 0.00 0.02 0.00 0.00 0.00 0.00 0.00 0.00 0.00] [1.00 0.00 0.00 0.00 0.00 0.00 0.00 0.00 0.00 0.00]\n",
      "[0.22 0.03 0.03 0.09 0.18 0.07 0.07 0.20 0.06 0.05] [0.23 0.05 0.05 0.03 0.18 0.15 0.02 0.14 0.10 0.07]\n",
      "[0.00 0.00 0.00 0.00 0.00 0.00 0.00 0.09 0.90 0.00] [0.03 0.00 0.00 0.00 0.00 0.00 0.00 0.02 0.94 0.01]\n",
      "[1.00 0.00 0.00 0.00 0.00 0.00 0.00 0.00 0.00 0.00] [1.00 0.00 0.00 0.00 0.00 0.00 0.00 0.00 0.00 0.00]\n",
      "[0.00 0.00 0.85 0.15 0.00 0.00 0.00 0.00 0.00 0.00] [0.00 0.00 0.83 0.13 0.00 0.04 0.00 0.00 0.00 0.00]\n",
      "[0.20 0.04 0.05 0.03 0.16 0.11 0.15 0.05 0.12 0.09] [0.21 0.08 0.01 0.00 0.14 0.06 0.20 0.05 0.10 0.14]\n",
      "[0.10 0.09 0.10 0.10 0.10 0.10 0.09 0.10 0.11 0.10] [0.09 0.09 0.10 0.12 0.10 0.11 0.10 0.11 0.09 0.10]\n",
      "[0.10 0.11 0.09 0.09 0.09 0.10 0.10 0.10 0.10 0.11] [0.10 0.12 0.09 0.11 0.10 0.11 0.10 0.09 0.11 0.08]\n",
      "[0.10 0.09 0.09 0.10 0.09 0.09 0.11 0.10 0.11 0.11] [0.10 0.10 0.09 0.10 0.10 0.09 0.10 0.08 0.11 0.12]\n",
      "[0.03 0.00 0.00 0.00 0.01 0.00 0.00 0.96 0.00 0.00] [0.07 0.00 0.00 0.00 0.00 0.00 0.01 0.92 0.00 0.00]\n",
      "[0.00 0.00 1.00 0.00 0.00 0.00 0.00 0.00 0.00 0.00] [0.00 0.00 1.00 0.00 0.00 0.00 0.00 0.00 0.00 0.00]\n"
     ]
    }
   ],
   "source": [
    "np.set_printoptions(formatter={'float': lambda x: \"{0:0.2f}\".format(x)})\n",
    "model = torch.load(model_save_path)\n",
    "model.eval()\n",
    "\n",
    "with torch.no_grad():\n",
    "    for X, y in test_dataloader:\n",
    "        X, y = X.to(device), y.to(device)\n",
    "        pred = model(X)\n",
    "        for a, b in zip(pred.cpu().numpy(), y.cpu().numpy()):\n",
    "            print(a, b)\n",
    "        break"
   ]
  },
  {
   "cell_type": "code",
   "execution_count": 230,
   "id": "084c26b3",
   "metadata": {},
   "outputs": [
    {
     "data": {
      "text/plain": [
       "Text(0.5, 1.0, 'Ground Truth')"
      ]
     },
     "execution_count": 230,
     "metadata": {},
     "output_type": "execute_result"
    },
    {
     "data": {
      "image/png": "[encoded data removed]",
      "text/plain": [
       "<Figure size 576x2160 with 30 Axes>"
      ]
     },
     "metadata": {},
     "output_type": "display_data"
    }
   ],
   "source": [
    "num_plots = 15\n",
    "\n",
    "fig, axs = plt.subplots(num_plots, 2, figsize=(8, num_plots * 2))\n",
    "\n",
    "cmap = plt.get_cmap('tab10')\n",
    "colors = [cmap(i) for i in range(10)]\n",
    "\n",
    "for i in range(num_plots):\n",
    "    axs[i][0].bar(range(10), pred[i].cpu().numpy(), color=colors)\n",
    "    axs[i][0].set_ylim(0, 1)\n",
    "    axs[i][0].set_xticks([])\n",
    "    axs[i][0].set_yticks([])\n",
    "    axs[i][1].bar(range(10), y[i].cpu().numpy(), color=colors)\n",
    "    axs[i][1].set_ylim(0, 1)\n",
    "    axs[i][1].set_xticks([])\n",
    "    axs[i][1].set_yticks([])\n",
    "    \n",
    "axs[0, 0].set_title(\"Prediction\", fontsize=18)\n",
    "axs[0, 1].set_title(\"Ground Truth\", fontsize=18)\n",
    "\n",
    "# plt.savefig(os.path.join(args.save_path, \"distribution_prediction\", \"Distribution Comparison MNIST MLP\"))"
   ]
  },
  {
   "cell_type": "code",
   "execution_count": null,
   "id": "87c1ae3d",
   "metadata": {},
   "outputs": [],
   "source": []
  },
  {
   "cell_type": "code",
   "execution_count": null,
   "id": "7a438363",
   "metadata": {},
   "outputs": [],
   "source": []
  },
  {
   "cell_type": "code",
   "execution_count": null,
   "id": "effac250",
   "metadata": {},
   "outputs": [],
   "source": []
  }
 ],
 "metadata": {
  "kernelspec": {
   "display_name": "conda/2021-09-22",
   "language": "python",
   "name": "conda-2021-09-22"
  },
  "language_info": {
   "codemirror_mode": {
    "name": "ipython",
    "version": 3
   },
   "file_extension": ".py",
   "mimetype": "text/x-python",
   "name": "python",
   "nbconvert_exporter": "python",
   "pygments_lexer": "ipython3",
   "version": "3.8.10"
  }
 },
 "nbformat": 4,
 "nbformat_minor": 5
}
