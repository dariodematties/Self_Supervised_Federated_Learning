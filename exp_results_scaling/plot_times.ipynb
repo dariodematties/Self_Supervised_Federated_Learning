{
 "cells": [
  {
   "cell_type": "code",
   "execution_count": 5,
   "metadata": {},
   "outputs": [
    {
     "data": {
      "text/html": [
       "<div>\n",
       "<style scoped>\n",
       "    .dataframe tbody tr th:only-of-type {\n",
       "        vertical-align: middle;\n",
       "    }\n",
       "\n",
       "    .dataframe tbody tr th {\n",
       "        vertical-align: top;\n",
       "    }\n",
       "\n",
       "    .dataframe thead th {\n",
       "        text-align: right;\n",
       "    }\n",
       "</style>\n",
       "<table border=\"1\" class=\"dataframe\">\n",
       "  <thead>\n",
       "    <tr style=\"text-align: right;\">\n",
       "      <th></th>\n",
       "      <th>Dataset/Model</th>\n",
       "      <th>gpus</th>\n",
       "      <th>start_time</th>\n",
       "      <th>finish_time</th>\n",
       "    </tr>\n",
       "  </thead>\n",
       "  <tbody>\n",
       "    <tr>\n",
       "      <th>0</th>\n",
       "      <td>MNIST/CNN</td>\n",
       "      <td>16</td>\n",
       "      <td>10:02:18</td>\n",
       "      <td>10:03:56</td>\n",
       "    </tr>\n",
       "    <tr>\n",
       "      <th>1</th>\n",
       "      <td>MNIST/CNN</td>\n",
       "      <td>8</td>\n",
       "      <td>10:03:56</td>\n",
       "      <td>10:06:40</td>\n",
       "    </tr>\n",
       "    <tr>\n",
       "      <th>2</th>\n",
       "      <td>MNIST/CNN</td>\n",
       "      <td>4</td>\n",
       "      <td>10:06:40</td>\n",
       "      <td>10:11:26</td>\n",
       "    </tr>\n",
       "    <tr>\n",
       "      <th>3</th>\n",
       "      <td>MNIST/CNN</td>\n",
       "      <td>2</td>\n",
       "      <td>10:11:26</td>\n",
       "      <td>10:19:20</td>\n",
       "    </tr>\n",
       "    <tr>\n",
       "      <th>4</th>\n",
       "      <td>MNIST/CNN</td>\n",
       "      <td>1</td>\n",
       "      <td>10:19:20</td>\n",
       "      <td>10:32:44</td>\n",
       "    </tr>\n",
       "    <tr>\n",
       "      <th>5</th>\n",
       "      <td>CIFAR-10/ResNet</td>\n",
       "      <td>16</td>\n",
       "      <td>10:44:27</td>\n",
       "      <td>10:50:24</td>\n",
       "    </tr>\n",
       "    <tr>\n",
       "      <th>6</th>\n",
       "      <td>CIFAR-10/ResNet</td>\n",
       "      <td>8</td>\n",
       "      <td>10:50:24</td>\n",
       "      <td>11:01:24</td>\n",
       "    </tr>\n",
       "    <tr>\n",
       "      <th>7</th>\n",
       "      <td>CIFAR-10/ResNet</td>\n",
       "      <td>4</td>\n",
       "      <td>11:01:24</td>\n",
       "      <td>11:22:53</td>\n",
       "    </tr>\n",
       "    <tr>\n",
       "      <th>8</th>\n",
       "      <td>CIFAR-10/ResNet</td>\n",
       "      <td>2</td>\n",
       "      <td>11:22:53</td>\n",
       "      <td>11:57:56</td>\n",
       "    </tr>\n",
       "    <tr>\n",
       "      <th>9</th>\n",
       "      <td>CIFAR-10/ResNet</td>\n",
       "      <td>1</td>\n",
       "      <td>12:45:41</td>\n",
       "      <td>13:46:18</td>\n",
       "    </tr>\n",
       "  </tbody>\n",
       "</table>\n",
       "</div>"
      ],
      "text/plain": [
       "     Dataset/Model  gpus start_time finish_time\n",
       "0        MNIST/CNN    16   10:02:18    10:03:56\n",
       "1        MNIST/CNN     8   10:03:56    10:06:40\n",
       "2        MNIST/CNN     4   10:06:40    10:11:26\n",
       "3        MNIST/CNN     2   10:11:26    10:19:20\n",
       "4        MNIST/CNN     1   10:19:20    10:32:44\n",
       "5  CIFAR-10/ResNet    16   10:44:27    10:50:24\n",
       "6  CIFAR-10/ResNet     8   10:50:24    11:01:24\n",
       "7  CIFAR-10/ResNet     4   11:01:24    11:22:53\n",
       "8  CIFAR-10/ResNet     2   11:22:53    11:57:56\n",
       "9  CIFAR-10/ResNet     1   12:45:41    13:46:18"
      ]
     },
     "execution_count": 5,
     "metadata": {},
     "output_type": "execute_result"
    }
   ],
   "source": [
    "# MNIST - CNN\n",
    "# 16,10:02:18,10:03:56\n",
    "# 8,10:03:56,10:06:40\n",
    "# 4,10:06:40,10:11:26\n",
    "# 2,10:11:26,10:19:20\n",
    "# 1,10:19:20,10:32:44\n",
    "\n",
    "# CIFAR - RESNET\n",
    "\n",
    "\n",
    "\n",
    "import pandas as pd\n",
    "from datetime import datetime\n",
    "\n",
    "df = pd.read_csv(\"times.csv\")\n",
    "\n",
    "df"
   ]
  },
  {
   "cell_type": "code",
   "execution_count": 6,
   "metadata": {},
   "outputs": [],
   "source": [
    "secs = []\n",
    "for start_time, end_time in zip(df[\"start_time\"], df[\"finish_time\"]):\n",
    " secs.append((datetime.strptime(end_time, \"%H:%M:%S\").timestamp() - datetime.strptime(start_time, \"%H:%M:%S\").timestamp()) / 160)\n",
    "\n",
    "df[\"total_time\"] = secs\n",
    " "
   ]
  },
  {
   "cell_type": "code",
   "execution_count": 7,
   "metadata": {},
   "outputs": [
    {
     "data": {
      "text/plain": [
       "([<matplotlib.axis.YTick at 0x7fc73ca8af40>,\n",
       "  <matplotlib.axis.YTick at 0x7fc73ca8adf0>,\n",
       "  <matplotlib.axis.YTick at 0x7fc73ca551f0>,\n",
       "  <matplotlib.axis.YTick at 0x7fc73ca55850>],\n",
       " [Text(0, 0.1, '0.1'),\n",
       "  Text(0, 1.0, '1'),\n",
       "  Text(0, 10.0, '10'),\n",
       "  Text(0, 100.0, '100')])"
      ]
     },
     "execution_count": 7,
     "metadata": {},
     "output_type": "execute_result"
    },
    {
     "data": {
      "image/png": "[encoded data removed]",
      "text/plain": [
       "<Figure size 432x288 with 1 Axes>"
      ]
     },
     "metadata": {
      "needs_background": "light"
     },
     "output_type": "display_data"
    }
   ],
   "source": [
    "from matplotlib import pyplot as plt\n",
    "import seaborn as sns\n",
    "\n",
    "\n",
    "sns.lineplot(\n",
    " data=df,\n",
    " x=\"gpus\",\n",
    " y=\"total_time\",\n",
    " # style=\"shared_sample_ratio\",\n",
    " hue=\"Dataset/Model\",\n",
    " marker='o',\n",
    ")\n",
    "\n",
    "plt.xlabel(\"Number of GPUs\")\n",
    "plt.ylabel(\"Time Per Experimental Epoch (s)\")\n",
    "plt.title(\"Strong Scaling on ThetaGPU with FL Experiments\")\n",
    "\n",
    "plt.xscale('log')\n",
    "plt.yscale('log')\n",
    "\n",
    "plt.xticks(df[\"gpus\"], df[\"gpus\"])\n",
    "plt.yticks([0.1, 1, 10, 100], [0.1, 1, 10, 100])"
   ]
  },
  {
   "cell_type": "code",
   "execution_count": null,
   "metadata": {},
   "outputs": [],
   "source": []
  }
 ],
 "metadata": {
  "kernelspec": {
   "display_name": "Python 3",
   "language": "python",
   "name": "python3"
  },
  "language_info": {
   "codemirror_mode": {
    "name": "ipython",
    "version": 3
   },
   "file_extension": ".py",
   "mimetype": "text/x-python",
   "name": "python",
   "nbconvert_exporter": "python",
   "pygments_lexer": "ipython3",
   "version": "3.8.10"
  },
  "orig_nbformat": 4,
  "vscode": {
   "interpreter": {
    "hash": "ac3fec1943ff5b9ab25a41a15ea8714bc35b39a178b31cfcaac1c0eb593ed0fe"
   }
  }
 },
 "nbformat": 4,
 "nbformat_minor": 2
}
